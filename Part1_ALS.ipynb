{
 "cells": [
  {
   "cell_type": "markdown",
   "metadata": {},
   "source": [
    "<Center><h3> Part 1 : Alternating Least Square(ALS)"
   ]
  },
  {
   "cell_type": "markdown",
   "metadata": {},
   "source": [
    "### Import Section "
   ]
  },
  {
   "cell_type": "code",
   "execution_count": 39,
   "metadata": {},
   "outputs": [],
   "source": [
    "from time import time\n",
    "import numpy as np\n",
    "import random\n",
    "import scipy \n",
    "from scipy import sparse\n",
    "import matplotlib.pyplot as plt\n",
    "from scipy.sparse.linalg import svds\n",
    "from functions import *\n",
    "%matplotlib inline"
   ]
  },
  {
   "cell_type": "markdown",
   "metadata": {},
   "source": [
    "### Explore Data "
   ]
  },
  {
   "cell_type": "code",
   "execution_count": 40,
   "metadata": {},
   "outputs": [],
   "source": [
    "def load_data(filename=\"u.data\" , small_data=True):\n",
    "    \"\"\"\n",
    "    This function returns :\n",
    "        R : the matrix user-item containing the ratings\n",
    "        mask : matrix is equal to 1 if a score existes and 0 otherwise\n",
    "    \"\"\"\n",
    "\n",
    "    # Use this line to test on u.data (100K dataset)\n",
    "    data = np.loadtxt(filename, dtype=int)\n",
    "    \n",
    "    # Use this line to test on ratings.csv (20M dataset) \n",
    "#     data = np.loadtxt(open(filename, \"rb\"), delimiter=\",\", skiprows=1)\n",
    "    \n",
    "\n",
    "    \n",
    "    \n",
    "    R = sparse.csr_matrix((data[:, 2], (data[:, 0]-1, data[:, 1]-1)),dtype=float)\n",
    "    mask = sparse.csr_matrix((np.ones(data[:, 2].shape),(data[:, 0]-1, data[:, 1]-1)), dtype=bool )\n",
    "\n",
    "    # take a small part of the whole data for testing \n",
    "    if small_data is True:\n",
    "        R = (R[0:100, 0:100].copy())\n",
    "        mask = (mask[0:100, 0:100].copy())\n",
    "        \n",
    "        \n",
    "    return R.toarray(), mask.toarray()"
   ]
  },
  {
   "cell_type": "code",
   "execution_count": 4,
   "metadata": {},
   "outputs": [],
   "source": [
    "R, mask = load_data(filename='u.data', small_data=True)"
   ]
  },
  {
   "cell_type": "code",
   "execution_count": 5,
   "metadata": {},
   "outputs": [
    {
     "data": {
      "text/plain": [
       "array([[ 5.,  3.,  4., ...,  4.,  3.,  5.],\n",
       "       [ 4.,  0.,  0., ...,  0.,  0.,  5.],\n",
       "       [ 0.,  0.,  0., ...,  0.,  0.,  0.],\n",
       "       ..., \n",
       "       [ 0.,  0.,  0., ...,  0.,  0.,  0.],\n",
       "       [ 4.,  0.,  3., ...,  5.,  0.,  5.],\n",
       "       [ 0.,  0.,  0., ...,  0.,  0.,  0.]])"
      ]
     },
     "execution_count": 5,
     "metadata": {},
     "output_type": "execute_result"
    }
   ],
   "source": [
    "R"
   ]
  },
  {
   "cell_type": "code",
   "execution_count": 6,
   "metadata": {},
   "outputs": [
    {
     "data": {
      "text/plain": [
       "array([[ True,  True,  True, ...,  True,  True,  True],\n",
       "       [ True, False, False, ..., False, False,  True],\n",
       "       [False, False, False, ..., False, False, False],\n",
       "       ..., \n",
       "       [False, False, False, ..., False, False, False],\n",
       "       [ True, False,  True, ...,  True, False,  True],\n",
       "       [False, False, False, ..., False, False, False]], dtype=bool)"
      ]
     },
     "execution_count": 6,
     "metadata": {},
     "output_type": "execute_result"
    }
   ],
   "source": [
    "mask"
   ]
  },
  {
   "cell_type": "markdown",
   "metadata": {},
   "source": [
    "The gradient of the objective function is given by : \n",
    "\n",
    "\n",
    "$$ \\bigtriangledown f (P,Q) = \\begin{pmatrix}\n",
    "                    - Q^T\\left[1_Ko(R - QP)\\right] + \\rho P \\\\ \n",
    "                    - \\left[1_Ko (R - QP)\\right] P^T + \\rho Q\n",
    "                    \\end{pmatrix}\n",
    "$$"
   ]
  },
  {
   "cell_type": "markdown",
   "metadata": {
    "collapsed": true
   },
   "source": [
    "** Initialize the matrix P and Q  **"
   ]
  },
  {
   "cell_type": "code",
   "execution_count": 7,
   "metadata": {},
   "outputs": [],
   "source": [
    "rho = 0.2 # regularization parameter\n",
    "C = 6 # projection space\n",
    "U,S,Vt = scipy.sparse.linalg.svds(R, k=6) #SVD decomposition\n",
    "Q0 = U\n",
    "P0 = Vt"
   ]
  },
  {
   "cell_type": "markdown",
   "metadata": {},
   "source": [
    "** Linear Search to find the minimum using the Armijo–Goldstein condition **"
   ]
  },
  {
   "cell_type": "code",
   "execution_count": 8,
   "metadata": {},
   "outputs": [],
   "source": [
    "def search_gamma(func, P, c1, c2):\n",
    "    n = 0\n",
    "    gamma = c2 * (c1 ** n)\n",
    "    P1 = P - gamma * func(P)[1]\n",
    "    while func(P1)[0] >= func(P)[0] + np.vdot(func(P)[1], (P1-P)) + 1. / ( 2 * gamma) * (np.linalg.norm(P1-P) ** 2) :\n",
    "        n += 1\n",
    "        gamma = c2 * (c1 ** n)\n",
    "        P1 = P - gamma * func(P)[1]\n",
    "    return c2 * (c1 ** (n-1))\n",
    "\n",
    "\n",
    "def grad_line_search(func, P0, epsilon): \n",
    "    P = P0\n",
    "    max_iter = 0\n",
    "    gamma = 0.5\n",
    "    while (np.linalg.norm(func(P)[1]) > epsilon and max_iter < 300):\n",
    "        c2 = gamma\n",
    "        gamma = search_gamma(func ,P, 0.5, 0.5)\n",
    "        P = P - gamma * func(P)[1]\n",
    "        max_iter += 1\n",
    "    return P, max_iter "
   ]
  },
  {
   "cell_type": "code",
   "execution_count": 9,
   "metadata": {},
   "outputs": [
    {
     "name": "stdout",
     "output_type": "stream",
     "text": [
      "Running time : 0.02 s \n",
      "Number of iterations : 8\n"
     ]
    }
   ],
   "source": [
    "t = time()\n",
    "P_star, n = grad_line_search(lambda P : objective(P, Q0, R, mask, rho), Vt, 1)\n",
    "\n",
    "print(\"Running time : %0.2f s \\nNumber of iterations : %d\"%((time()-t),n))"
   ]
  },
  {
   "cell_type": "markdown",
   "metadata": {},
   "source": [
    "** ALS Algorithm **"
   ]
  },
  {
   "cell_type": "code",
   "execution_count": 10,
   "metadata": {},
   "outputs": [],
   "source": [
    "def ALS(P0, Q0, mask, rho, eps, max_iter):\n",
    "    Q = Q0\n",
    "    P = P0\n",
    "    k = 0\n",
    "    \n",
    "    val, grad_P = objective_P(P0, Q0, R, mask, rho)\n",
    "    _, grad_Q = objective_Q(P0, Q0, R, mask, rho)\n",
    "    \n",
    "    list_obj = []\n",
    "    list_norm_P = []\n",
    "    list_norm_Q = []\n",
    "\n",
    "    list_obj.append(val)\n",
    "    list_norm_P.append(np.linalg.norm(grad_P))\n",
    "    list_norm_Q.append(np.linalg.norm(grad_Q))\n",
    "    \n",
    "    while (np.linalg.norm(grad_P) > eps or np.linalg.norm(grad_Q) > eps) and k < max_iter:\n",
    "        \n",
    "        # minimizing P and Q using a line search \n",
    "        P, _ = grad_line_search(lambda P : objective_P(P, Q, R, mask, rho), P, eps)\n",
    "        Q, _ = grad_line_search(lambda Q : objective_Q(P, Q, R, mask, rho), Q, eps)\n",
    "        \n",
    "        val, grad_P = objective_P(P, Q, R, mask, rho)\n",
    "        _, grad_Q = objective_Q(P, Q, R, mask, rho)\n",
    "        k += 1\n",
    "        \n",
    "        list_obj.append(val)\n",
    "        list_norm_P.append(np.linalg.norm(grad_P))\n",
    "        list_norm_Q.append(np.linalg.norm(grad_Q))\n",
    "        \n",
    "        if k == 1 or k % 10 == 0:\n",
    "            print(\"iteration = %d\"%k)\n",
    "            print(\"Norm of grad_P = %0.5f \"%np.linalg.norm(grad_P))\n",
    "            print(\"Norm of grad_Q = %0.5f \"%np.linalg.norm(grad_Q))\n",
    "\n",
    "    return P, Q, max_iter, list_obj, list_norm_P, list_norm_Q"
   ]
  },
  {
   "cell_type": "markdown",
   "metadata": {},
   "source": [
    "**Test the ALS function **"
   ]
  },
  {
   "cell_type": "code",
   "execution_count": 11,
   "metadata": {
    "scrolled": true
   },
   "outputs": [
    {
     "name": "stdout",
     "output_type": "stream",
     "text": [
      "iteration = 1\n",
      "Norm of grad_P = 34.23989 \n",
      "Norm of grad_Q = 44.61366 \n",
      "iteration = 10\n",
      "Norm of grad_P = 13.47818 \n",
      "Norm of grad_Q = 3.65117 \n",
      "iteration = 20\n",
      "Norm of grad_P = 10.15628 \n",
      "Norm of grad_Q = 0.68936 \n",
      "iteration = 30\n",
      "Norm of grad_P = 8.45526 \n",
      "Norm of grad_Q = 0.37579 \n",
      "iteration = 40\n",
      "Norm of grad_P = 7.18822 \n",
      "Norm of grad_Q = 0.09654 \n",
      "iteration = 50\n",
      "Norm of grad_P = 6.49649 \n",
      "Norm of grad_Q = 0.55601 \n",
      "iteration = 60\n",
      "Norm of grad_P = 5.92887 \n",
      "Norm of grad_Q = 0.46163 \n",
      "iteration = 70\n",
      "Norm of grad_P = 5.26699 \n",
      "Norm of grad_Q = 0.20904 \n",
      "iteration = 80\n",
      "Norm of grad_P = 4.80220 \n",
      "Norm of grad_Q = 0.09966 \n",
      "iteration = 90\n",
      "Norm of grad_P = 4.33362 \n",
      "Norm of grad_Q = 0.09841 \n",
      "iteration = 100\n",
      "Norm of grad_P = 3.94026 \n",
      "Norm of grad_Q = 0.09804 \n",
      "iteration = 110\n",
      "Norm of grad_P = 3.60102 \n",
      "Norm of grad_Q = 0.09145 \n",
      "iteration = 120\n",
      "Norm of grad_P = 3.32327 \n",
      "Norm of grad_Q = 0.15757 \n",
      "iteration = 130\n",
      "Norm of grad_P = 3.11901 \n",
      "Norm of grad_Q = 0.28346 \n",
      "iteration = 140\n",
      "Norm of grad_P = 2.85846 \n",
      "Norm of grad_Q = 0.09889 \n",
      "iteration = 150\n",
      "Norm of grad_P = 2.54714 \n",
      "Norm of grad_Q = 0.09956 \n",
      "iteration = 160\n",
      "Norm of grad_P = 2.28206 \n",
      "Norm of grad_Q = 0.09821 \n",
      "iteration = 170\n",
      "Norm of grad_P = 2.08392 \n",
      "Norm of grad_Q = 0.09925 \n",
      "iteration = 180\n",
      "Norm of grad_P = 1.88370 \n",
      "Norm of grad_Q = 0.09959 \n",
      "iteration = 190\n",
      "Norm of grad_P = 1.69063 \n",
      "Norm of grad_Q = 0.09421 \n",
      "iteration = 200\n",
      "Norm of grad_P = 1.56467 \n",
      "Norm of grad_Q = 0.09481 \n",
      "iteration = 210\n",
      "Norm of grad_P = 1.41194 \n",
      "Norm of grad_Q = 0.09666 \n",
      "iteration = 220\n",
      "Norm of grad_P = 1.27709 \n",
      "Norm of grad_Q = 0.09958 \n",
      "iteration = 230\n",
      "Norm of grad_P = 1.17261 \n",
      "Norm of grad_Q = 0.09997 \n",
      "iteration = 240\n",
      "Norm of grad_P = 1.03065 \n",
      "Norm of grad_Q = 0.09900 \n",
      "iteration = 250\n",
      "Norm of grad_P = 0.95691 \n",
      "Norm of grad_Q = 0.09865 \n",
      "iteration = 260\n",
      "Norm of grad_P = 0.87574 \n",
      "Norm of grad_Q = 0.09408 \n",
      "iteration = 270\n",
      "Norm of grad_P = 0.76517 \n",
      "Norm of grad_Q = 0.09571 \n",
      "iteration = 280\n",
      "Norm of grad_P = 0.70438 \n",
      "Norm of grad_Q = 0.09761 \n",
      "iteration = 290\n",
      "Norm of grad_P = 0.63906 \n",
      "Norm of grad_Q = 0.09341 \n",
      "iteration = 300\n",
      "Norm of grad_P = 0.57972 \n",
      "Norm of grad_Q = 0.09264 \n"
     ]
    }
   ],
   "source": [
    "rho = 0.2 # regularization parameter\n",
    "C = 6 # projection space \n",
    "U,S,Vt = scipy.sparse.linalg.svds(R, k=6) #SVD decomposition\n",
    "Q0 = U\n",
    "P0 = Vt\n",
    "eps = .1 # value of epsilon\n",
    "max_iter = 300 # maximum of iterations\n",
    "\n",
    "# call the Als function\n",
    "P, Q, n, list_obj, list_norm_P, list_norm_Q = ALS(Vt, U, mask, rho, eps, max_iter)"
   ]
  },
  {
   "cell_type": "code",
   "execution_count": 16,
   "metadata": {},
   "outputs": [
    {
     "data": {
      "image/png": "[encoded data removed]",
      "text/plain": [
       "<matplotlib.figure.Figure at 0x1a61d9f9be0>"
      ]
     },
     "metadata": {},
     "output_type": "display_data"
    }
   ],
   "source": [
    "plt.figure(figsize=(8,5))\n",
    "\n",
    "plt.plot(list_obj)\n",
    "plt.xlabel(\"#iterations\", fontsize=14)\n",
    "plt.ylabel(\"$Objective$\", fontsize=14)\n",
    "plt.title('The value of the objective function Vs the number of iterations')\n",
    "plt.grid(True)"
   ]
  },
  {
   "cell_type": "code",
   "execution_count": 17,
   "metadata": {},
   "outputs": [
    {
     "data": {
      "image/png": "[encoded data removed]",
      "text/plain": [
       "<matplotlib.figure.Figure at 0x1a61e132e80>"
      ]
     },
     "metadata": {},
     "output_type": "display_data"
    }
   ],
   "source": [
    "plt.figure(figsize=(15,5))\n",
    "\n",
    "plt.subplot(121)\n",
    "plt.plot(list_norm_P)\n",
    "plt.xlabel(\"#iterations\", fontsize=14)\n",
    "plt.ylabel(\"$Norm$\", fontsize=14)\n",
    "plt.title('Norm of the gradient of P Vs the number of iterations')\n",
    "plt.grid(True)\n",
    "\n",
    "\n",
    "plt.subplot(122)\n",
    "plt.plot(list_norm_Q)\n",
    "plt.xlabel(\"#iterations\", fontsize=14)\n",
    "plt.ylabel(\"$Norm$\", fontsize=14)\n",
    "plt.title('Norm of the gradient of Q Vs the number of iterations')\n",
    "plt.grid(True)\n",
    "plt.show()"
   ]
  },
  {
   "cell_type": "code",
   "execution_count": 37,
   "metadata": {},
   "outputs": [
    {
     "name": "stdout",
     "output_type": "stream",
     "text": [
      "Relative error : 10.801425\n",
      "Total objective f(P,Q) = 269.09040 \n"
     ]
    }
   ],
   "source": [
    "relative_error = np.linalg.norm(mask*(R - np.dot(Q, P))) / np.linalg.norm(R) * 100\n",
    "\n",
    "print(\"Relative error : %f\"%relative_error)\n",
    "print(\"Total objective f(P,Q) = %0.5f \"%(objective(P, Q, R, mask, rho)[0]))"
   ]
  },
  {
   "cell_type": "markdown",
   "metadata": {},
   "source": [
    "** Recommandation ** "
   ]
  },
  {
   "cell_type": "markdown",
   "metadata": {},
   "source": [
    "In order to find the movie that we'll recommand to the user n° u, we have to consider the decomposition $ R = QP$.\n",
    "\n",
    "In fact, by multiplying the $u^{th}$ row of Q by the matrix P, we obtain a vector r of size $ I$ x $ 1$ that contains all the estimated ratings of movies for this user u.   \n",
    "\n",
    "Now, we only need to consider the highest score and take its index (which correspond to the recommanded movie), however we shoudn't forget that we have to avoid recommanding a movie that the user had already seen, that's why we need to multiply our vector r by the opposite of the mask. \n"
   ]
  },
  {
   "cell_type": "markdown",
   "metadata": {},
   "source": [
    "** What recommanding to the user n° 45 ?** "
   ]
  },
  {
   "cell_type": "code",
   "execution_count": 32,
   "metadata": {},
   "outputs": [
    {
     "name": "stdout",
     "output_type": "stream",
     "text": [
      "We recommand to the user n° 45 the movie n°  31\n",
      "The rating of this movie is : 4.729 \n"
     ]
    }
   ],
   "source": [
    "u = 45\n",
    "r = np.dot(Q[u,:], P)\n",
    "\n",
    "r = r * (1 - mask[u,:])\n",
    "\n",
    "movie_index = np.argmax(r)\n",
    "print(\"We recommand to the user n° %s the movie n°  %d\"%(u,movie_index))\n",
    "print (\"The rating of this movie is : %0.3f \"%r[movie_index])"
   ]
  }
 ],
 "metadata": {
  "anaconda-cloud": {},
  "kernelspec": {
   "display_name": "Python [conda root]",
   "language": "python",
   "name": "conda-root-py"
  },
  "language_info": {
   "codemirror_mode": {
    "name": "ipython",
    "version": 3
   },
   "file_extension": ".py",
   "mimetype": "text/x-python",
   "name": "python",
   "nbconvert_exporter": "python",
   "pygments_lexer": "ipython3",
   "version": "3.6.0"
  }
 },
 "nbformat": 4,
 "nbformat_minor": 2
}
